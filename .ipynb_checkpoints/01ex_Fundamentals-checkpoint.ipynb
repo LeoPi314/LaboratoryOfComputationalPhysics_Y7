{
 "cells": [
  {
   "cell_type": "markdown",
   "metadata": {},
   "source": [
    "0\\. Implement a function (whatever you want) and save it to a file (e.g. `function.py`). Import that file and use that function in this notebook.\n"
   ]
  },
  {
   "cell_type": "code",
   "execution_count": 11,
   "metadata": {},
   "outputs": [],
   "source": [
    "function_file = \"function\"\n",
    "with open( ( function_file + \".py\" ), 'w' ) as f :\n",
    "    f.write( \"def switch( x, y ) : \\n return y, x\" )\n",
    "    f.close()"
   ]
  },
  {
   "cell_type": "code",
   "execution_count": 13,
   "metadata": {},
   "outputs": [],
   "source": [
    "from function import switch as sw"
   ]
  },
  {
   "cell_type": "markdown",
   "metadata": {},
   "source": [
    "1\\. Write the following as a list comprehension"
   ]
  },
  {
   "cell_type": "code",
   "execution_count": 33,
   "metadata": {},
   "outputs": [
    {
     "name": "stdout",
     "output_type": "stream",
     "text": [
      "[(0, 0), (0, 1), (0, 2), (0, 3), (1, 0), (1, 1), (1, 2), (1, 3), (2, 0), (2, 1), (2, 2), (2, 3)]\n",
      "[0, 4, 16]\n",
      "2 3\n"
     ]
    }
   ],
   "source": [
    "# 1\n",
    "ans = []\n",
    "for i in range(3):\n",
    "    for j in range(4):\n",
    "        ans.append((i, j))\n",
    "print (ans)\n",
    "\n",
    "# 2\n",
    "ans = map(lambda x: x*x, filter(lambda x: x%2 == 0, range(5)))\n",
    "print (list(ans))"
   ]
  },
  {
   "cell_type": "code",
   "execution_count": 34,
   "metadata": {},
   "outputs": [
    {
     "name": "stdout",
     "output_type": "stream",
     "text": [
      "[(0, 0), (0, 1), (0, 2), (0, 3), (1, 0), (1, 1), (1, 2), (1, 3), (2, 0), (2, 1), (2, 2), (2, 3)]\n",
      "[0, 4, 16]\n"
     ]
    }
   ],
   "source": [
    "# 1\n",
    "#ans = [ ( i, j ) for i in range(3) for j in range(4) ]\n",
    "#print( *( ( i, j ) for i in range(3) for j in range(4) ), sep=' ' )\n",
    "print(  [ ( i, j ) for i in range(3) for j in range(4) ] )\n",
    "# 2\n",
    "print ( [ x**2 for x in range(5) if ( x%2 == 0 )] )"
   ]
  },
  {
   "cell_type": "markdown",
   "metadata": {},
   "source": [
    "2\\. Convert the following function into a pure function with no global variables or side effects"
   ]
  },
  {
   "cell_type": "code",
   "execution_count": 35,
   "metadata": {},
   "outputs": [
    {
     "name": "stdout",
     "output_type": "stream",
     "text": [
      "[1, 2, 3, 0, 1, 2, 3, 4]\n",
      "[1, 2, 3, 0, 1, 2, 3, 4]\n"
     ]
    }
   ],
   "source": [
    "x = 5\n",
    "def f(alist):\n",
    "    for i in range(x):\n",
    "         alist.append(i)\n",
    "    return alist\n",
    "\n",
    "alist = [1,2,3]\n",
    "ans = f(alist)\n",
    "print (ans)\n",
    "print (alist) # alist has been changed!"
   ]
  },
  {
   "cell_type": "code",
   "execution_count": 37,
   "metadata": {},
   "outputs": [
    {
     "name": "stdout",
     "output_type": "stream",
     "text": [
      "[1, 2, 3, 0, 1, 2, 3, 4]\n",
      "[1, 2, 3]\n"
     ]
    }
   ],
   "source": [
    "def f(alist, n):\n",
    "    anotherlist = [ i for i in alist ] + [ i for i in range( n )]\n",
    "    return anotherlist\n",
    "\n",
    "alist = [1, 2, 3]\n",
    "ans = f(alist, 5)\n",
    "print (ans)\n",
    "print (alist) # alist has not been changed!"
   ]
  },
  {
   "cell_type": "markdown",
   "metadata": {},
   "source": [
    "3\\. Write a `decorator` hello that makes every wrapped function print “Hello!”, i.e. something like:\n",
    "\n",
    "```python\n",
    "@hello\n",
    "def square(x):\n",
    "    return x*x\n",
    "```\n",
    "\n"
   ]
  },
  {
   "cell_type": "code",
   "execution_count": 55,
   "metadata": {},
   "outputs": [
    {
     "name": "stdout",
     "output_type": "stream",
     "text": [
      "Hello!\n",
      "Bye!\n",
      "Hello!\n",
      "wow omg\n",
      "Hello!\n",
      "4\n"
     ]
    }
   ],
   "source": [
    "def hello( func ) :\n",
    "    def f( *x ) :\n",
    "        print( \"Hello!\" )\n",
    "        return func( *x )\n",
    "    return f\n",
    "\n",
    "@hello\n",
    "def square( x ):\n",
    "    return x*x\n",
    "\n",
    "@hello\n",
    "def say( a, b ):\n",
    "    print( a, b )\n",
    "\n",
    "@hello\n",
    "def say_bye() :\n",
    "    print( 'Bye!')\n",
    "\n",
    "say_bye()\n",
    "say( 'wow', 'omg')\n",
    "print( square( 2 ) )"
   ]
  },
  {
   "cell_type": "markdown",
   "metadata": {},
   "source": [
    "4\\. Write the factorial function so that it a) does and b) does not use recursion."
   ]
  },
  {
   "cell_type": "code",
   "execution_count": 54,
   "metadata": {},
   "outputs": [
    {
     "name": "stdout",
     "output_type": "stream",
     "text": [
      "Choose your x: 5\n",
      "120\n",
      "529 ns ± 0.456 ns per loop (mean ± std. dev. of 7 runs, 1000000 loops each)\n",
      "120\n",
      "334 ns ± 0.639 ns per loop (mean ± std. dev. of 7 runs, 1000000 loops each)\n"
     ]
    }
   ],
   "source": [
    "x = int( input(\"Choose your x: \") )\n",
    "\n",
    "# a) does use recursion\n",
    "def fac_a( x ) :\n",
    "    if( x ) : return ( x * fac_a( x - 1 ) )\n",
    "    else : return 1\n",
    "\n",
    "print( fac_a( x ) )\n",
    "%timeit fac_a( x ) \n",
    "\n",
    "# b) does not use recursion\n",
    "def fac_b( x ) :\n",
    "    out = 1\n",
    "    while ( x > 0 ) :\n",
    "        out *= x \n",
    "        x -= 1\n",
    "    return out\n",
    "\n",
    "print( fac_b( x ) )\n",
    "%timeit fac_b( x )"
   ]
  },
  {
   "cell_type": "markdown",
   "metadata": {},
   "source": [
    "5\\. Use HOFs (zip in particular) to compute the weight of a circle, a disk and a sphere, assuming different radii and different densities:\n",
    "\n",
    "```python\n",
    "densities = {\"Al\":[0.5,1,2],\"Fe\":[3,4,5],\"Pb\": [15,20,30]}\n",
    "radii = [1,2,3]\n",
    "```\n",
    "\n",
    "where the entries of the dictionary's values are the linear, superficial and volumetric densities of the materials respectively.\n",
    "\n",
    "In particular define a list of three lambda functions using a comprehension that computes the circumference, the area and the volume for a given radius.\n"
   ]
  },
  {
   "cell_type": "code",
   "execution_count": 52,
   "metadata": {},
   "outputs": [
    {
     "name": "stdout",
     "output_type": "stream",
     "text": [
      "[('Al', 1, 3.141592653589793), ('Al', 1, 3.141592653589793), ('Al', 1, 8.377580409572783), ('Al', 2, 6.283185307179586), ('Al', 2, 12.566370614359172), ('Al', 2, 67.02064327658226), ('Al', 3, 9.42477796076938), ('Al', 3, 28.274333882308138), ('Al', 3, 226.19467105846513), ('Fe', 1, 18.84955592153876), ('Fe', 1, 12.566370614359172), ('Fe', 1, 20.94395102393196), ('Fe', 2, 37.69911184307752), ('Fe', 2, 50.26548245743669), ('Fe', 2, 167.55160819145567), ('Fe', 3, 56.548667764616276), ('Fe', 3, 113.09733552923255), ('Fe', 3, 565.4866776461629), ('Pb', 1, 94.24777960769379), ('Pb', 1, 62.83185307179586), ('Pb', 1, 125.66370614359174), ('Pb', 2, 188.49555921538757), ('Pb', 2, 251.32741228718345), ('Pb', 2, 1005.3096491487339), ('Pb', 3, 282.7433388230814), ('Pb', 3, 565.4866776461628), ('Pb', 3, 3392.920065876977)]\n"
     ]
    }
   ],
   "source": [
    "from scipy.special import gamma as g\n",
    "from math import pi\n",
    "\n",
    "densities = {\"Al\":[0.5,1,2],\"Fe\":[3,4,5],\"Pb\": [15,20,30]}\n",
    "radii = [1,2,3]\n",
    "\n",
    "n_volumes = [ ( lambda i : (lambda x : ( ( pi**(float(i/2.)) ) / ( g( (float(i/2.) + 1. ) ) ) * x**i ) ) ) ( y ) for y in range( 1, 4 ) ]\n",
    "n_volumes[ 0 ] = (lambda x : 2. * pi * x )\n",
    "print( [ ( name, r, weight)  for name in densities for r in radii for weight in list( map( ( lambda coup : coup[0] * coup[1]( r ) ) , zip( densities[ name ] , n_volumes )  ) ) ] )\n",
    "\n",
    "#control lines\n",
    "#vol = [ ( lambda x : 2.0*pi*x ), ( lambda x : pi*x**2 ), ( lambda x : 4./3.*pi*x**3 ) ]\n",
    "#coeff = [ 2., 1., 4./3. ]\n",
    "#vol = [ (lambda i : (lambda x : coeff[i-1]*pi*(x**i) ) )( y ) for y in range(1,4) ]\n",
    "#for i in range (3) : print( vol[i]( 1 ) ) \n",
    "#print( [ ( name, r, weight)  for name in densities for r in radii for weight in list( map( ( lambda coup : coup[0] * coup[1]( r ) ) , zip( densities[ name ] , vol )  ) ) ] )\n",
    "\n",
    "# for name in densities : \n",
    "#     for r in radii : \n",
    "#         for i in range(len(vol)) :\n",
    "#             w = densities[ name ][ i ] * vol[ i ]( r) \n",
    "#             print( name, r, w )"
   ]
  },
  {
   "cell_type": "markdown",
   "metadata": {},
   "source": [
    "6\\. Edit the class defintion to add an instance attribute of is_hungry = True to the Dog class. Then add a method called eat() which changes the value of is_hungry to False when called. Figure out the best way to feed each dog and then output “My dogs are hungry.” if all are hungry or “My dogs are not hungry.” if all are not hungry. The final output should look like this:\n",
    "\n",
    "`I have 3 dogs. \n",
    "Tom is 6. \n",
    "Fletcher is 7. \n",
    "Larry is 9. \n",
    "And they're all mammals, of course. \n",
    "My dogs are not hungry.\n",
    "`\n",
    "\n",
    "```python\n",
    "# Parent class\n",
    "class Dog:\n",
    "\n",
    "    # Class attribute\n",
    "    species = 'mammal'\n",
    "\n",
    "    # Initializer / Instance attributes\n",
    "    def __init__(self, name, age):\n",
    "        self.name = name\n",
    "        self.age = age\n",
    "\n",
    "    # instance method\n",
    "    def description(self):\n",
    "        return \"{} is {} years old\".format(self.name, self.age)\n",
    "\n",
    "    # instance method\n",
    "    def speak(self, sound):\n",
    "        return \"{} says {}\".format(self.name, sound)\n",
    "\n",
    "# Child class (inherits from Dog class)\n",
    "class RussellTerrier(Dog):\n",
    "    def run(self, speed):\n",
    "        return \"{} runs {}\".format(self.name, speed)\n",
    "\n",
    "# Child class (inherits from Dog class)\n",
    "class Bulldog(Dog):\n",
    "    def run(self, speed):\n",
    "        return \"{} runs {}\".format(self.name, speed)\n",
    "```"
   ]
  },
  {
   "cell_type": "code",
   "execution_count": 38,
   "metadata": {},
   "outputs": [
    {
     "name": "stdout",
     "output_type": "stream",
     "text": [
      "I have 3 dogs.\n",
      "Tom is 6 years old\n",
      "Tom has eaten\n",
      "Fletcher is 7 years old\n",
      "Fletcher has eaten\n",
      "Larry is 9 years old\n",
      "Larry has eaten\n",
      "And they're all mammals, of course.\n",
      "My dogs are not hungry.\n"
     ]
    }
   ],
   "source": [
    "# Parent class\n",
    "class Dog:\n",
    "\n",
    "    # Class attribute\n",
    "    species = 'mammal'\n",
    "    \n",
    "    # Class attribute\n",
    "    is_hungry = True\n",
    "    \n",
    "    # Initializer / Instance attributes\n",
    "    def __init__(self, name, age):\n",
    "        self.name = name\n",
    "        self.age = age\n",
    "\n",
    "    # instance method\n",
    "    def description(self):\n",
    "        return \"{} is {} years old\".format(self.name, self.age)\n",
    "\n",
    "    # instance method\n",
    "    def eat(self):\n",
    "        self.is_hungry = False\n",
    "        return \"{} has eaten\".format(self.name)\n",
    "    \n",
    "\n",
    "    # instance method\n",
    "    def speak(self, sound):\n",
    "        return \"{} says {}\".format(self.name, sound)\n",
    "\n",
    "# Child class (inherits from Dog class)\n",
    "class RussellTerrier(Dog):\n",
    "    def run(self, speed):\n",
    "        return \"{} runs {}\".format(self.name, speed)\n",
    "\n",
    "# Child class (inherits from Dog class)\n",
    "class Bulldog(Dog):\n",
    "    def run(self, speed):\n",
    "        return \"{} runs {}\".format(self.name, speed)\n",
    "    \n",
    "dogs = [ RussellTerrier('Tom', 6), Bulldog('Fletcher', 7), Dog('Larry', 9) ]\n",
    "\n",
    "print( \"I have\", len(dogs), \"dogs.\" )\n",
    "mammals = True\n",
    "hungry_boys = False\n",
    "for i in dogs : \n",
    "    print(i.description())\n",
    "    print(i.eat())\n",
    "    if ( i.species != 'mammal' ) : mammals = False\n",
    "    if ( i.is_hungry ) : hungry_boys = True\n",
    "if ( mammals ) : print( \"And they're all mammals, of course.\" )\n",
    "if ( not hungry_boys ) : print( \"My dogs are not hungry.\" )"
   ]
  }
 ],
 "metadata": {
  "kernelspec": {
   "display_name": "Python 3 (ipykernel)",
   "language": "python",
   "name": "python3"
  },
  "language_info": {
   "codemirror_mode": {
    "name": "ipython",
    "version": 3
   },
   "file_extension": ".py",
   "mimetype": "text/x-python",
   "name": "python",
   "nbconvert_exporter": "python",
   "pygments_lexer": "ipython3",
   "version": "3.12.4"
  }
 },
 "nbformat": 4,
 "nbformat_minor": 4
}
