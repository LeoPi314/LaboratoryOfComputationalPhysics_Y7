{
 "cells": [
  {
   "cell_type": "markdown",
   "metadata": {},
   "source": [
    "1. The MickeyMouse problem\n",
    "\n",
    "a) Write a program that prints the numbers from 1 to 100. But for multiples of 3 print `Mickey` instead of the corresponding number and for the multiples of 5 print `Mouse`. For numbers which are multiples of both three and five print `MickeyMouse`\n",
    "\n",
    "b) Put the result in a tuple and substitute `Mickey` with `Donald` and `Mouse` with `Duck`"
   ]
  },
  {
   "cell_type": "code",
   "execution_count": 3,
   "metadata": {},
   "outputs": [
    {
     "name": "stdout",
     "output_type": "stream",
     "text": [
      "1\n",
      "2\n",
      "Mickey\n",
      "4\n",
      "Mouse\n",
      "Mickey\n",
      "7\n",
      "8\n",
      "Mickey\n",
      "Mouse\n",
      "11\n",
      "Mickey\n",
      "13\n",
      "14\n",
      "MickeyMouse\n",
      "16\n",
      "17\n",
      "Mickey\n",
      "19\n",
      "Mouse\n",
      "Mickey\n",
      "22\n",
      "23\n",
      "Mickey\n",
      "Mouse\n",
      "26\n",
      "Mickey\n",
      "28\n",
      "29\n",
      "MickeyMouse\n",
      "31\n",
      "32\n",
      "Mickey\n",
      "34\n",
      "Mouse\n",
      "Mickey\n",
      "37\n",
      "38\n",
      "Mickey\n",
      "Mouse\n",
      "41\n",
      "Mickey\n",
      "43\n",
      "44\n",
      "MickeyMouse\n",
      "46\n",
      "47\n",
      "Mickey\n",
      "49\n",
      "Mouse\n",
      "Mickey\n",
      "52\n",
      "53\n",
      "Mickey\n",
      "Mouse\n",
      "56\n",
      "Mickey\n",
      "58\n",
      "59\n",
      "MickeyMouse\n",
      "61\n",
      "62\n",
      "Mickey\n",
      "64\n",
      "Mouse\n",
      "Mickey\n",
      "67\n",
      "68\n",
      "Mickey\n",
      "Mouse\n",
      "71\n",
      "Mickey\n",
      "73\n",
      "74\n",
      "MickeyMouse\n",
      "76\n",
      "77\n",
      "Mickey\n",
      "79\n",
      "Mouse\n",
      "Mickey\n",
      "82\n",
      "83\n",
      "Mickey\n",
      "Mouse\n",
      "86\n",
      "Mickey\n",
      "88\n",
      "89\n",
      "MickeyMouse\n",
      "91\n",
      "92\n",
      "Mickey\n",
      "94\n",
      "Mouse\n",
      "Mickey\n",
      "97\n",
      "98\n",
      "Mickey\n",
      "Mouse\n",
      "(1, 2, 'Donald', 4, 'Duck', 'Donald', 7, 8, 'Donald', 'Duck', 11, 'Donald', 13, 14, 'DonaldDuck', 16, 17, 'Donald', 19, 'Duck', 'Donald', 22, 23, 'Donald', 'Duck', 26, 'Donald', 28, 29, 'DonaldDuck', 31, 32, 'Donald', 34, 'Duck', 'Donald', 37, 38, 'Donald', 'Duck', 41, 'Donald', 43, 44, 'DonaldDuck', 46, 47, 'Donald', 49, 'Duck', 'Donald', 52, 53, 'Donald', 'Duck', 56, 'Donald', 58, 59, 'DonaldDuck', 61, 62, 'Donald', 64, 'Duck', 'Donald', 67, 68, 'Donald', 'Duck', 71, 'Donald', 73, 74, 'DonaldDuck', 76, 77, 'Donald', 79, 'Duck', 'Donald', 82, 83, 'Donald', 'Duck', 86, 'Donald', 88, 89, 'DonaldDuck', 91, 92, 'Donald', 94, 'Duck', 'Donald', 97, 98, 'Donald', 'Duck')\n"
     ]
    }
   ],
   "source": [
    "#part a)\n",
    "\n",
    "#first empty tuple\n",
    "o = ( )\n",
    "\n",
    "#cycling over numbers [1:101)\n",
    "for i in range( 1 , 101 ) :\n",
    "    #checking if multiples of 15, MickeyMouse\n",
    "    if ( ( i % 3 == 0 ) & ( i % 5 == 0 ) ) : output = 'MickeyMouse'\n",
    "    #if not multiple of both, checking single ones\n",
    "    elif ( i % 3 == 0 ) : output = 'Mickey'\n",
    "    elif ( i % 5 == 0 ) : output = 'Mouse'\n",
    "    #if no condition mathced, output i\n",
    "    else : output = i\n",
    "    #printing output\n",
    "    print( output )\n",
    "#integrating part b)\n",
    "    #if Mickey or Mouse or bot, switch to Donald Duck single-element tuple\n",
    "    if output == 'MickeyMouse' : o_i = ( 'DonaldDuck', )\n",
    "    elif output == 'Mickey' : o_i = ( 'Donald', )\n",
    "    elif output == 'Mouse' : o_i = ( 'Duck', )\n",
    "    else : o_i = ( i, )\n",
    "    #updating tuple as sum of tuples\n",
    "    o += o_i\n",
    "#at cycle end, print tuple\n",
    "print( o )"
   ]
  },
  {
   "cell_type": "markdown",
   "metadata": {},
   "source": [
    "2\\. The swap function\n",
    "\n",
    "Write a function that swap the values of two input variables x and y (whatever the type). Try to do that also without a temporary variable"
   ]
  },
  {
   "cell_type": "code",
   "execution_count": 7,
   "metadata": {},
   "outputs": [
    {
     "name": "stdout",
     "output_type": "stream",
     "text": [
      "Insert a: d\n",
      "Insert b: 8\n",
      "a:  8 ; b:  d\n"
     ]
    }
   ],
   "source": [
    "#function to swap input values\n",
    "def swap( x, y ) : return y, x\n",
    "\n",
    "#getting input variables a,b\n",
    "a = input(\"Insert a: \")\n",
    "b = input(\"Insert b: \")\n",
    "\n",
    "#swapping a, b\n",
    "a, b = swap( a, b )\n",
    "\n",
    "#print swapped values\n",
    "print( \"a: \", a , \"; b: \", b)"
   ]
  },
  {
   "cell_type": "markdown",
   "metadata": {},
   "source": [
    "3\\. Computing the distance\n",
    "\n",
    "Write a function that calculates and returns the euclidean distance between two points *u* and *v*, where *u* and *v* are both 2-tuples *(x,y)*. For example, if *u=(3,0)* and *v=(0,4)*, the function should return 5"
   ]
  },
  {
   "cell_type": "code",
   "execution_count": 5,
   "metadata": {},
   "outputs": [
    {
     "name": "stdout",
     "output_type": "stream",
     "text": [
      "Input value for u_x: 3\n",
      "Input value for u_y: 0\n",
      "Input value for v_x: 0\n",
      "Input value for v_y: 4\n",
      "Distance between point u and v is:  5.0\n"
     ]
    }
   ],
   "source": [
    "#defining function to compute euclidean distance\n",
    "def distance( x, y ) :\n",
    "    return ( ( x[0] - y[0] )**2 + ( x[1] - y[1] )**2 )**0.5\n",
    "\n",
    "#getting input from user, u,v coordinates\n",
    "u = ( float( input(\"Input value for u_x: \") ), float( input(\"Input value for u_y: \") ) )\n",
    "v = ( float( input(\"Input value for v_x: \") ), float( input(\"Input value for v_y: \") ) )\n",
    "\n",
    "#output distance between u and v\n",
    "print( \"Distance between point u and v is: \", distance( u, v ))\n"
   ]
  },
  {
   "cell_type": "markdown",
   "metadata": {},
   "source": [
    "4\\. Counting letters\n",
    "\n",
    "Write a program to calculate the number of times each character occurs in a given string *s*. Ignore differneces in capitalization"
   ]
  },
  {
   "cell_type": "code",
   "execution_count": null,
   "metadata": {},
   "outputs": [],
   "source": [
    "s=\"Write a program that prints the numbers from 1 to 100. \\\n",
    "But for multiples of three print Mickey instead of the number and for the multiples of five print Mouse. \\\n",
    "For numbers which are multiples of both three and five print MickeyMouse\""
   ]
  },
  {
   "cell_type": "code",
   "execution_count": 1,
   "metadata": {},
   "outputs": [
    {
     "name": "stdout",
     "output_type": "stream",
     "text": [
      "w 2\n",
      "r 17\n",
      "i 14\n",
      "t 19\n",
      "e 22\n",
      "  41\n",
      "a 7\n",
      "p 8\n",
      "o 13\n",
      "g 1\n",
      "m 12\n",
      "h 9\n",
      "n 10\n",
      "s 9\n",
      "u 9\n",
      "b 5\n",
      "f 10\n",
      "1 2\n",
      "0 2\n",
      ". 2\n",
      "l 6\n",
      "c 3\n",
      "k 2\n",
      "y 2\n",
      "d 3\n",
      "v 2\n"
     ]
    }
   ],
   "source": [
    "# given string\n",
    "s=\"Write a program that prints the numbers from 1 to 100. \\\n",
    "But for multiples of three print Mickey instead of the number and for the multiples of five print Mouse. \\\n",
    "For numbers which are multiples of both three and five print MickeyMouse\"\n",
    "\n",
    "# converting string to all lower cases\n",
    "s_l = s.lower()\n",
    "\n",
    "# creating a dictionary to count single character appearance, starting from first element\n",
    "count = { s_l[0] : 0 }\n",
    "\n",
    "# cycling over characters in s\n",
    "for i in s_l :\n",
    "    #if already seen, increment counter\n",
    "    if i in count : count[i] += 1\n",
    "    #if a new character, start counting from one\n",
    "    else : count[i] = 1\n",
    "\n",
    "#output of counted characters\n",
    "for i in count : print( i, count[i] )"
   ]
  },
  {
   "cell_type": "markdown",
   "metadata": {},
   "source": [
    "5\\. Isolating the unique\n",
    "\n",
    "Write a function that determines and count the unique numbers in the list *l*"
   ]
  },
  {
   "cell_type": "code",
   "execution_count": null,
   "metadata": {},
   "outputs": [],
   "source": [
    "l = [36, 45, 58, 3, 74, 96, 64, 45, 31, 10, 24, 19, 33, 86, 99, 18, 63, 70, 85,\n",
    " 85, 63, 47, 56, 42, 70, 84, 88, 55, 20, 54, 8, 56, 51, 79, 81, 57, 37, 91,\n",
    " 1, 84, 84, 36, 66, 9, 89, 50, 42, 91, 50, 95, 90, 98, 39, 16, 82, 31, 92, 41,\n",
    " 45, 30, 66, 70, 34, 85, 94, 5, 3, 36, 72, 91, 84, 34, 87, 75, 53, 51, 20, 89, 51, 20]"
   ]
  },
  {
   "cell_type": "code",
   "execution_count": 11,
   "metadata": {},
   "outputs": [
    {
     "name": "stdout",
     "output_type": "stream",
     "text": [
      "There are  37 unique numbers among  80 \n",
      "They are: \n",
      "58\n",
      "74\n",
      "96\n",
      "64\n",
      "10\n",
      "24\n",
      "19\n",
      "33\n",
      "86\n",
      "99\n",
      "18\n",
      "47\n",
      "88\n",
      "55\n",
      "54\n",
      "8\n",
      "79\n",
      "81\n",
      "57\n",
      "37\n",
      "1\n",
      "9\n",
      "95\n",
      "90\n",
      "98\n",
      "39\n",
      "16\n",
      "82\n",
      "92\n",
      "41\n",
      "30\n",
      "94\n",
      "5\n",
      "72\n",
      "87\n",
      "75\n",
      "53\n"
     ]
    }
   ],
   "source": [
    "#function to determinate unique elements in list\n",
    "def uni_c( list ) :\n",
    "    seen = [ ]\n",
    "    lonely = [ ]\n",
    "    for i in list : \n",
    "        if ( i  in seen ) :\n",
    "            if ( i in lonely ) : lonely.remove( i )\n",
    "        else :\n",
    "            lonely.append( i )\n",
    "            seen.append( i )\n",
    "    return lonely\n",
    "\n",
    "#input list\n",
    "l = [36, 45, 58, 3, 74, 96, 64, 45, 31, 10, 24, 19, 33, 86, 99, 18, 63, 70, 85,\n",
    " 85, 63, 47, 56, 42, 70, 84, 88, 55, 20, 54, 8, 56, 51, 79, 81, 57, 37, 91,\n",
    " 1, 84, 84, 36, 66, 9, 89, 50, 42, 91, 50, 95, 90, 98, 39, 16, 82, 31, 92, 41,\n",
    " 45, 30, 66, 70, 34, 85, 94, 5, 3, 36, 72, 91, 84, 34, 87, 75, 53, 51, 20, 89, 51, 20]\n",
    "\n",
    "#getting unique list from funcion\n",
    "lonely =  uni_c( l )\n",
    "\n",
    "#printing number of unique elements\n",
    "print( \"There are \", len( lonely ), \"unique numbers among \", len(l), \"\\nThey are: \")\n",
    "#printing unique numbers\n",
    "for i in lonely : print( i )"
   ]
  },
  {
   "cell_type": "markdown",
   "metadata": {},
   "source": [
    "6\\. Combination of functions\n",
    "\n",
    "Write two functions - one that returns the square of a number, and one that returns the cube. Now write a third function that returns the number raised to the 6th power using the two previous functions."
   ]
  },
  {
   "cell_type": "code",
   "execution_count": 5,
   "metadata": {},
   "outputs": [
    {
     "name": "stdout",
     "output_type": "stream",
     "text": [
      "Insert x: 5\n",
      "Square of x:  25.0 ; Cube of x:  125.0 ; 6th power of x:  15625.0\n"
     ]
    }
   ],
   "source": [
    "#function to compute square of a number\n",
    "def square( x ) : return x**2\n",
    "#function to compute cube of a number\n",
    "def cube( x ) : return x**3\n",
    "#function to compute 6th power of a number\n",
    "def esapow( x ) : return square( cube( x ) )\n",
    "\n",
    "#getting an input number\n",
    "x = float( input( \"Insert x: \") )\n",
    "#output of all powers\n",
    "print( \"Square of x: \", square( x ), \"; Cube of x: \", cube( x ), \"; 6th power of x: \", esapow( x ))"
   ]
  },
  {
   "cell_type": "markdown",
   "metadata": {},
   "source": [
    "7\\. Cubes\n",
    "\n",
    "Create a list of the cubes of x for x in *[0, 10]* using:\n",
    "\n",
    "a) a for loop\n",
    "\n",
    "b) a list comprehension"
   ]
  },
  {
   "cell_type": "code",
   "execution_count": 14,
   "metadata": {},
   "outputs": [
    {
     "name": "stdout",
     "output_type": "stream",
     "text": [
      "1\n",
      "8\n",
      "27\n",
      "64\n",
      "125\n",
      "216\n",
      "343\n",
      "512\n",
      "729\n",
      "1000\n",
      "1331\n",
      "1728\n",
      "2197\n",
      "2744\n",
      "3375\n",
      "4096\n",
      "4913\n",
      "5832\n",
      "6859\n",
      "8000\n",
      "9261\n",
      "10648\n",
      "12167\n",
      "13824\n",
      "15625\n",
      "17576\n",
      "19683\n",
      "21952\n",
      "24389\n",
      "27000\n",
      "29791\n",
      "32768\n",
      "35937\n",
      "39304\n",
      "42875\n",
      "46656\n",
      "50653\n",
      "54872\n",
      "59319\n",
      "64000\n",
      "68921\n",
      "74088\n",
      "79507\n",
      "85184\n",
      "91125\n",
      "97336\n",
      "103823\n",
      "110592\n",
      "117649\n",
      "125000\n",
      "132651\n",
      "140608\n",
      "148877\n",
      "157464\n",
      "166375\n",
      "175616\n",
      "185193\n",
      "195112\n",
      "205379\n",
      "216000\n",
      "226981\n",
      "238328\n",
      "250047\n",
      "262144\n",
      "274625\n",
      "287496\n",
      "300763\n",
      "314432\n",
      "328509\n",
      "343000\n",
      "357911\n",
      "373248\n",
      "389017\n",
      "405224\n",
      "421875\n",
      "438976\n",
      "456533\n",
      "474552\n",
      "493039\n",
      "512000\n",
      "531441\n",
      "551368\n",
      "571787\n",
      "592704\n",
      "614125\n",
      "636056\n",
      "658503\n",
      "681472\n",
      "704969\n",
      "729000\n",
      "753571\n",
      "778688\n",
      "804357\n",
      "830584\n",
      "857375\n",
      "884736\n",
      "912673\n",
      "941192\n",
      "970299\n",
      "1000000\n",
      "[1, 8, 27, 64, 125, 216, 343, 512, 729, 1000, 1331, 1728, 2197, 2744, 3375, 4096, 4913, 5832, 6859, 8000, 9261, 10648, 12167, 13824, 15625, 17576, 19683, 21952, 24389, 27000, 29791, 32768, 35937, 39304, 42875, 46656, 50653, 54872, 59319, 64000, 68921, 74088, 79507, 85184, 91125, 97336, 103823, 110592, 117649, 125000, 132651, 140608, 148877, 157464, 166375, 175616, 185193, 195112, 205379, 216000, 226981, 238328, 250047, 262144, 274625, 287496, 300763, 314432, 328509, 343000, 357911, 373248, 389017, 405224, 421875, 438976, 456533, 474552, 493039, 512000, 531441, 551368, 571787, 592704, 614125, 636056, 658503, 681472, 704969, 729000, 753571, 778688, 804357, 830584, 857375, 884736, 912673, 941192, 970299, 1000000]\n"
     ]
    }
   ],
   "source": [
    "#classical method a)\n",
    "#creating an empty list\n",
    "cubes = []\n",
    "#cycling over numbers [1; 101)\n",
    "for i in range( 1, 101 ) : cubes.append( i ** 3 )\n",
    "#printing all list\n",
    "for i in cubes : print( i )\n",
    "    \n",
    "#list comprehension method b)\n",
    "#creating a list of cubes using comprehension\n",
    "cub = [ i ** 3 for i in range( 1, 101) ]\n",
    "#printing list\n",
    "print( cub )"
   ]
  },
  {
   "cell_type": "markdown",
   "metadata": {},
   "source": [
    "8\\. Nested list comprehension\n",
    "\n",
    "A Pythagorean triple is an integer solution to the Pythagorean theorem $a^2+b^2=c^2$. The first Pythagorean triple is (3,4,5). Find and put in a tuple all unique Pythagorean triples for the positive integers a, b and c less than 100."
   ]
  },
  {
   "cell_type": "code",
   "execution_count": 3,
   "metadata": {},
   "outputs": [
    {
     "name": "stdout",
     "output_type": "stream",
     "text": [
      "I found 52 Pythagorean triples\n",
      "[(3, 4, 5), (5, 12, 13), (6, 8, 10), (7, 24, 25), (8, 15, 17), (9, 12, 15), (9, 40, 41), (10, 24, 26), (11, 60, 61), (12, 16, 20), (12, 35, 37), (13, 84, 85), (14, 48, 50), (15, 20, 25), (15, 36, 39), (16, 30, 34), (16, 63, 65), (18, 24, 30), (18, 80, 82), (20, 21, 29), (20, 48, 52), (21, 28, 35), (21, 72, 75), (24, 32, 40), (24, 45, 51), (24, 70, 74), (25, 60, 65), (27, 36, 45), (28, 45, 53), (28, 96, 100), (30, 40, 50), (30, 72, 78), (32, 60, 68), (33, 44, 55), (33, 56, 65), (35, 84, 91), (36, 48, 60), (36, 77, 85), (39, 52, 65), (39, 80, 89), (40, 42, 58), (40, 75, 85), (42, 56, 70), (45, 60, 75), (48, 55, 73), (48, 64, 80), (51, 68, 85), (54, 72, 90), (57, 76, 95), (60, 63, 87), (60, 80, 100), (65, 72, 97)]\n"
     ]
    }
   ],
   "source": [
    "#creating a comprehension list for Pythagorean triple with condition a^2 + b^2 = c^3 in [1:100]\n",
    "PTL = [ ( a, b, c ) for a in range( 1, 101 ) for b in range( a, 101 ) for c in range( b, 101 ) if ( ( a**2 + b**2 ) == ( c**2 ) ) ]\n",
    "#printing result\n",
    "print( \"I found\", len( PTL ), \"Pythagorean triples\")\n",
    "print( PTL )\n",
    "\n",
    "#extreme secure check\n",
    "#for i in PTL :\n",
    "#    print( i, \" because: \", square( i[0] ), \"+ \", square( i[1] ), \"= \", square( i[2] ) )"
   ]
  },
  {
   "cell_type": "markdown",
   "metadata": {},
   "source": [
    "9\\. Normalization\n",
    "\n",
    "Write a function that takes a tuple of numbers and returns it with the entries normalized to one"
   ]
  },
  {
   "cell_type": "code",
   "execution_count": 16,
   "metadata": {},
   "outputs": [
    {
     "name": "stdout",
     "output_type": "stream",
     "text": [
      "What element normalize on respect to: 0\n",
      "statistical normalization >>>  (1.0, 1.25, 1.6111111111111112, 0.08333333333333333, 2.0555555555555554, 2.6666666666666665, 1.7777777777777777, 1.25, 0.8611111111111112, 0.2777777777777778, 0.6666666666666666, 0.5277777777777778, 0.9166666666666666, 2.388888888888889, 2.75, 0.5, 1.75, 1.9444444444444444, 2.361111111111111, 2.361111111111111, 1.75, 1.3055555555555556, 1.5555555555555556, 1.1666666666666667, 1.9444444444444444, 2.3333333333333335, 2.4444444444444446, 1.5277777777777777, 0.5555555555555556, 1.5, 0.2222222222222222, 1.5555555555555556, 1.4166666666666667, 2.1944444444444446, 2.25, 1.5833333333333333, 1.0277777777777777, 2.5277777777777777, 0.027777777777777776, 2.3333333333333335, 2.3333333333333335, 1.0, 1.8333333333333333, 0.25, 2.4722222222222223, 1.3888888888888888, 1.1666666666666667, 2.5277777777777777, 1.3888888888888888, 2.638888888888889, 2.5, 2.7222222222222223, 1.0833333333333333, 0.4444444444444444, 2.2777777777777777, 0.8611111111111112, 2.5555555555555554, 1.1388888888888888, 1.25, 0.8333333333333334, 1.8333333333333333, 1.9444444444444444, 0.9444444444444444, 2.361111111111111, 2.611111111111111, 0.1388888888888889, 0.08333333333333333, 1.0, 2.0, 2.5277777777777777, 2.3333333333333335, 0.9444444444444444, 2.4166666666666665, 2.0833333333333335, 1.4722222222222223, 1.4166666666666667, 0.5555555555555556, 2.4722222222222223, 1.4166666666666667, 0.5555555555555556)\n",
      "vectorial normalization >>>  (0.06449852382932365, 0.08062315478665456, 0.1039142883916881, 0.005374876985776971, 0.13258029898249862, 0.17199606354486308, 0.11466404236324206, 0.08062315478665456, 0.05554039551969537, 0.01791625661925657, 0.04299901588621577, 0.034040887576587485, 0.059123646843546686, 0.15407980692560652, 0.17737094053064006, 0.03224926191466183, 0.1128724167013164, 0.125413796334796, 0.15228818126368085, 0.15228818126368085, 0.1128724167013164, 0.08420640611050588, 0.1003310370678368, 0.0752482778008776, 0.125413796334796, 0.1504965556017552, 0.15766305824945784, 0.09853941140591115, 0.03583251323851314, 0.09674778574398549, 0.014333005295405257, 0.1003310370678368, 0.09137290875820851, 0.1415384272921269, 0.14512167861597822, 0.10212266272976245, 0.06629014949124931, 0.1630379352352348, 0.0017916256619256571, 0.1504965556017552, 0.1504965556017552, 0.06449852382932365, 0.11824729368709337, 0.016124630957330913, 0.15945468391138348, 0.08958128309628285, 0.0752482778008776, 0.1630379352352348, 0.08958128309628285, 0.17020443788293743, 0.16124630957330913, 0.1755793148687144, 0.06987340081510063, 0.028666010590810514, 0.1469133042779039, 0.05554039551969537, 0.16482956089716044, 0.07345665213895194, 0.08062315478665456, 0.05374876985776971, 0.11824729368709337, 0.125413796334796, 0.060915272505472344, 0.15228818126368085, 0.16841281222101176, 0.008958128309628286, 0.005374876985776971, 0.06449852382932365, 0.1289970476586473, 0.1630379352352348, 0.1504965556017552, 0.060915272505472344, 0.15587143258753217, 0.1343719246444243, 0.09495616008205983, 0.09137290875820851, 0.03583251323851314, 0.15945468391138348, 0.09137290875820851, 0.03583251323851314)\n"
     ]
    }
   ],
   "source": [
    "#defining a normalization function to normalize vectors to versors\n",
    "def norm_vector( x ) :\n",
    "    #computing sum of square x values\n",
    "    sum = 0.0\n",
    "    for i in x : sum += i**2\n",
    "    #creating a new empty tuple\n",
    "    new_x = ()\n",
    "    #cycling over tuple x\n",
    "    for i in x :\n",
    "        #creating single-element tuple t for normalized value x\n",
    "        t = ( i/(sum**0.5) )\n",
    "        #updating complete tuple\n",
    "        new_x += ( t, )\n",
    "    #return new tuple\n",
    "    return new_x\n",
    "\n",
    "#defining a normalization function to normalize all variables of a tuple to a given element in position n\n",
    "def norm_stat( x, normalizer ) :\n",
    "    #creating a new empty tuple\n",
    "    new_x = ()\n",
    "    #cycling over tuple x\n",
    "    for i in x :\n",
    "        #creating single-element tuple t for normalized value x\n",
    "        t = ( i / x[ normalizer ] )\n",
    "        #updating complete tuple\n",
    "        new_x += ( t, )\n",
    "    #return new tuple\n",
    "    return new_x\n",
    "\n",
    "#input list\n",
    "l = [36, 45, 58, 3, 74, 96, 64, 45, 31, 10, 24, 19, 33, 86, 99, 18, 63, 70, 85,\n",
    " 85, 63, 47, 56, 42, 70, 84, 88, 55, 20, 54, 8, 56, 51, 79, 81, 57, 37, 91,\n",
    " 1, 84, 84, 36, 66, 9, 89, 50, 42, 91, 50, 95, 90, 98, 39, 16, 82, 31, 92, 41,\n",
    " 45, 30, 66, 70, 34, 85, 94, 5, 3, 36, 72, 91, 84, 34, 87, 75, 53, 51, 20, 89, 51, 20]\n",
    "\n",
    "#gettin input position\n",
    "n = int( input( \"What element normalize on respect to: \" ) )\n",
    "\n",
    "#normalize list l based on n\n",
    "norm_l = norm_stat( l, normalizer = n )\n",
    "\n",
    "#output normalized list\n",
    "print( \"statistical normalization >>> \", norm_l )\n",
    "\n",
    "#print vector normalization\n",
    "print( \"vectorial normalization >>> \", norm_vector( l ) )"
   ]
  },
  {
   "cell_type": "code",
   "execution_count": null,
   "metadata": {},
   "outputs": [],
   "source": []
  }
 ],
 "metadata": {
  "kernelspec": {
   "display_name": "Python 3",
   "language": "python",
   "name": "python3"
  },
  "language_info": {
   "codemirror_mode": {
    "name": "ipython",
    "version": 3
   },
   "file_extension": ".py",
   "mimetype": "text/x-python",
   "name": "python",
   "nbconvert_exporter": "python",
   "pygments_lexer": "ipython3",
   "version": "3.6.8"
  }
 },
 "nbformat": 4,
 "nbformat_minor": 4
}
