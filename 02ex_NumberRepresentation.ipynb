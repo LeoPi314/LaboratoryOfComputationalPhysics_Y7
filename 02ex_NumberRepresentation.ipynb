{
 "cells": [
  {
   "cell_type": "markdown",
   "metadata": {},
   "source": [
    "1\\. Write a function that converts number representation, bin<->dec<->hex. (Clearly using the corresponding python built-in functions is not fair..)"
   ]
  },
  {
   "cell_type": "code",
   "execution_count": null,
   "metadata": {},
   "outputs": [],
   "source": [
    "#function to convert any integer number from base 10 to base 2\n",
    "def binary( x ) :\n",
    "    rev = []\n",
    "    while( x > 0 ) :\n",
    "        rev.append( x%2 )\n",
    "        x = x//2\n",
    "    out = 0\n",
    "    for i in range(0, len(rev)) : out = out + rev[i]*10**(i)\n",
    "    return out\n",
    "\n",
    "def hexadecim( x ) :\n",
    "    rev = []\n",
    "    while( x > 0 ) :\n",
    "        rev.append( x%16 )\n",
    "        x = x//16\n",
    "    for i in range(0, len(rev)) : \n",
    "        if (rev[i] > 9) : \n",
    "            rev[i] = chr(ord('a') + (rev[i]-10))\n",
    "    out = \"\"\n",
    "    rev.reverse()\n",
    "    for i in range(0, len(rev)) : out = out + str(rev[i])\n",
    "    return out\n",
    "\n",
    "def conv( x, b ) :\n",
    "    if( b == 2 ): o = binary( x )\n",
    "    elif( b == 16 ) : o = hexadecim( x )\n",
    "    else : o = x\n",
    "    return o\n",
    "\n",
    "x = int(input(\"Number to convert: \"))\n",
    "\n",
    "print(\"Built_in Binary:\", bin(x))\n",
    "print(\"Custom_made Binary:\", conv(x, 2))\n",
    "\n",
    "print(\"Built_in Hexadecim:\", hex(x))\n",
    "print(\"Custom_made Hexadecim:\", conv(x, 16))\n"
   ]
  },
  {
   "cell_type": "markdown",
   "metadata": {},
   "source": [
    "2\\. Write a function that converts a 32 bit word into a single precision floating point (i.e. interprets the various bits as sign, mantissa and exponent)"
   ]
  },
  {
   "cell_type": "code",
   "execution_count": null,
   "metadata": {},
   "outputs": [],
   "source": [
    "#inp = int(input(\"Insert somthing: \"))\n",
    "inp = int(input(\"Insert somthing: \"), 2)\n",
    "\n",
    "print(\"input:\", f\"{inp:032b}\")\n",
    "\n",
    "def fbf(x) :\n",
    "    mantissa_mask = 0\n",
    "    for i in range(0,23) : mantissa_mask += 2**i\n",
    "    mantissa = x & mantissa_mask\n",
    "    exponent_mask = 0\n",
    "    for i in range(23,31) : exponent_mask += 2**i\n",
    "    exponent = x & exponent_mask\n",
    "    exponent = exponent >> 23\n",
    "    sign_mask = 2**31\n",
    "    sign = x & sign_mask\n",
    "    sign = sign >> 31\n",
    "    print(\"mantissa:\", f\"{mantissa:023b}\")\n",
    "    print(\"exponent:\", f\"{exponent:08b}\")\n",
    "    print(\"sign:\", f\"{sign:01}\")\n",
    "\n",
    "    bias = 127\n",
    "    value = 0.\n",
    "    i = 0\n",
    "    while( mantissa > 0 ) :\n",
    "        value += ( mantissa % 2 )*(2.)**(-23+i)\n",
    "        mantissa = mantissa // 2\n",
    "        i += 1\n",
    "    value += 1.\n",
    "    return ((-1)**sign)*(value)*2**(exponent-bias)\n",
    "\n",
    "print(fbf(inp))"
   ]
  },
  {
   "cell_type": "markdown",
   "metadata": {},
   "source": [
    "3\\. Write a program to determine the underflow and overflow limits (within a factor of 2) for python on your computer. \n",
    "\n",
    "**Tips**: define two variables inizialized to 1 and halve/double them enough time to exceed the under/over-flow limits  "
   ]
  },
  {
   "cell_type": "code",
   "execution_count": 35,
   "metadata": {},
   "outputs": [
    {
     "name": "stdout",
     "output_type": "stream",
     "text": [
      "Steps: 1024 \n",
      " max before overflow: 8.98846567431158e+307\n",
      "Steps: 1075 \n",
      " min before underflow: 5e-324\n"
     ]
    }
   ],
   "source": [
    "next = 1.0\n",
    "counter = 1\n",
    "ok = 1\n",
    "while ok == 1:\n",
    "     try : \n",
    "         next = 2.0**counter\n",
    "     except :\n",
    "         ok = 0\n",
    "     else:\n",
    "         counter += 1\n",
    "print( \"Steps:\", counter, \"\\n max before overflow:\", next)\n",
    "\n",
    "new = 1.0\n",
    "cou = 1\n",
    "k = 1\n",
    "while k == 1 :\n",
    "    a = 2.0**(-cou)\n",
    "    if a == 0 : \n",
    "         k = 0\n",
    "    else:\n",
    "         new = a\n",
    "         cou += 1\n",
    "print( \"Steps:\", cou, \"\\n min before underflow:\", new)"
   ]
  },
  {
   "cell_type": "markdown",
   "metadata": {},
   "source": [
    "4\\. Write a program to determine the machine precision\n",
    "\n",
    "**Tips**: define a new variable by adding a smaller and smaller value (proceeding similarly to prob. 2) to an original variable and check the point where the two are the same "
   ]
  },
  {
   "cell_type": "code",
   "execution_count": 8,
   "metadata": {},
   "outputs": [
    {
     "name": "stdout",
     "output_type": "stream",
     "text": [
      "Precision of 53 bits, diff= 1.1102230246251565e-16\n",
      "Precision of 54 bits, diff= 5.551115123125783e-17\n",
      "Precision of 55 bits, diff= 2.7755575615628914e-17\n",
      "Precision of 56 bits, diff= 1.3877787807814457e-17\n",
      "Precision of 57 bits, diff= 6.938893903907228e-18\n",
      "Precision of 58 bits, diff= 3.469446951953614e-18\n",
      "Precision of 59 bits, diff= 1.734723475976807e-18\n"
     ]
    }
   ],
   "source": [
    "base = 1.0\n",
    "for i in range(0, 60) :\n",
    "    new = base + 2.0**(-i)\n",
    "    if ( new == base ) : print(\"Precision of\", i, \"bits, diff=\", 2.0**(-i))\n"
   ]
  },
  {
   "cell_type": "markdown",
   "metadata": {},
   "source": [
    "5\\. Write a function that takes in input three parameters $a$, $b$ and $c$ and prints out the two solutions to the quadratic equation $ax^2+bx+c=0$ using the standard formula:\n",
    "$$\n",
    "x=\\frac{-b\\pm\\sqrt{b^2-4ac}}{2a}\n",
    "$$\n",
    "\n",
    "(a) use the program to compute the solution for $a=0.001$, $b=1000$ and $c=0.001$\n",
    "\n",
    "(b) re-express the standard solution formula by multiplying top and bottom by $-b\\mp\\sqrt{b^2-4ac}$ and again find the solution for $a=0.001$, $b=1000$ and $c=0.001$. How does it compare with what previously obtained? Why?\n",
    "\n",
    "(c) write a function that compute the roots of a quadratic equation accurately in all cases"
   ]
  },
  {
   "cell_type": "code",
   "execution_count": 45,
   "metadata": {},
   "outputs": [
    {
     "name": "stdout",
     "output_type": "stream",
     "text": [
      "(-9.999894245993346e-07, -999999.999999)\n",
      "(-1.0000000000009999e-06, -1000010.5755125057)\n",
      "(-1.000110065192133e-06, -999889.9469208802)\n"
     ]
    }
   ],
   "source": [
    "def trinomial(a, b, c) : \n",
    "    if ( b ** 2 ) > ( 4.0 * a *c ) :\n",
    "        return ( - b + ( b ** 2 - 4.0 * a *c )**0.5 ) / ( 2.0 * a) , ( - b - ( b ** 2 - 4.0 * a *c )**0.5 ) / ( 2.0 * a)\n",
    "    else :\n",
    "        return 0. , 0.\n",
    "def trinom(a, b, c) : \n",
    "    if ( b ** 2 ) > ( 4.0 * a *c ) :\n",
    "        return  ( 4.0 * a * c ) / ( 2.0 * a * ( - b - ( b ** 2 - 4.0 * a *c )**0.5 ) ) , ( 4.0 *a * c ) / ( 2.0 * a * ( - b + ( b ** 2 - 4.0 * a *c )**0.5 ) )\n",
    "    else :\n",
    "        return 0. , 0.\n",
    "def trin(a, b, c) : \n",
    "    if ( b ** 2 ) > ( 4.0 * a *c ) :\n",
    "        ac = ( a * c ) ** 0.5\n",
    "         #root delta plus\n",
    "        dp = ( b + 2.0 * ac ) ** 0.25\n",
    "        #root delta minus\n",
    "        dm = ( b - 2.0 * ac ) ** 0.25\n",
    "        # new b\n",
    "        b = b ** 0.5\n",
    "        return ( ( ( - b + ( dp * dm ) ) * ( b + ( dp * dm ) ) ) / ( 2.0 * a ) ) , ( ( 2.0 * c ) / ( ( - b + ( dp * dm ) ) * ( b + ( dp * dm ) ) ) )\n",
    "    else :\n",
    "        return 0. , 0.\n",
    "\n",
    "a = 0.001\n",
    "b = 1000\n",
    "c = 0.001\n",
    "print(trinomial(a, b, c))\n",
    "print(trinom(a, b, c))\n",
    "print(trin(a, b, c))"
   ]
  },
  {
   "cell_type": "markdown",
   "metadata": {},
   "source": [
    "6\\. Write a program that implements the function $f(x)=x(x−1)$\n",
    "\n",
    "(a) Calculate the derivative of the function at the point $x = 1$ using the derivative definition:\n",
    "\n",
    "$$\n",
    "\\frac{{\\rm d}f}{{\\rm d}x} = \\lim_{\\delta\\to0} \\frac{f(x+\\delta)-f(x)}{\\delta}\n",
    "$$\n",
    "\n",
    "with $\\delta = 10^{−2}$. Calculate the true value of the same derivative analytically and compare with the answer your program gives. The two will not agree perfectly. Why not?\n",
    "\n",
    "(b) Repeat the calculation for $\\delta = 10^{−4}, 10^{−6}, 10^{−8}, 10^{−10}, 10^{−12}$ and $10^{−14}$. How does the accuracy scales with $\\delta$?"
   ]
  },
  {
   "cell_type": "code",
   "execution_count": 59,
   "metadata": {},
   "outputs": [
    {
     "name": "stdout",
     "output_type": "stream",
     "text": [
      "[('delta = 1e-2', 1.010000000000001), ('delta = 1e-4', 1.0000999999998899), ('delta = 1e-6', 1.0000009999177333), ('delta = 1e-8', 1.0000000039225287), ('delta = 1e-10', 1.000000082840371), ('delta = 1e-12', 1.0000889005833413), ('delta = 1e-14', 0.9992007221626509)]\n",
      "f'(x) =  1\n"
     ]
    }
   ],
   "source": [
    "def f(x) :\n",
    "    return ( x * ( x - 1.0 ) )\n",
    "\n",
    "def derivate ( function, x, delta) : \n",
    "    return (function(x + delta) - function(x))/delta\n",
    "def f1(x) :\n",
    "    return ( 2*x - 1 )\n",
    "output = [ (\"delta = 1e-\" + str(i), derivate( f, 1, (10**(-i)))) for i in range(2, 15) if i%2 == 0 ]\n",
    "print( output )\n",
    "print( \"f'(x) = \", f1(1) )"
   ]
  },
  {
   "cell_type": "markdown",
   "metadata": {},
   "source": [
    "7\\. Consider the integral of the semicircle of radius 1:\n",
    "$$\n",
    "I=\\int_{-1}^{1} \\sqrt(1-x^2) {\\rm d}x\n",
    "$$\n",
    "which it's known to be $I=\\frac{\\pi}{2}=1.57079632679...$.\n",
    "Alternatively we can use the Riemann definition of the integral:\n",
    "$$\n",
    "I=\\lim_{N\\to\\infty} \\sum_{k=1}^{N} h y_k \n",
    "$$\n",
    "\n",
    "with $h=2/N$ the width of each of the $N$ slices the domain is divided into and where\n",
    "$y_k$ is the value of the function at the $k-$th slice.\n",
    "\n",
    "(a) Write a programe to compute the integral with $N=100$. How does the result compares to the true value?\n",
    "\n",
    "(b) How much can $N$ be increased if the computation needs to be run in less than a second? What is the gain in running it for 1 minute? \n"
   ]
  },
  {
   "cell_type": "code",
   "execution_count": 64,
   "metadata": {},
   "outputs": [
    {
     "name": "stdout",
     "output_type": "stream",
     "text": [
      "1.5691342555492505\n",
      "13.1 μs ± 143 ns per loop (mean ± std. dev. of 7 runs, 100,000 loops each)\n",
      "100 1.5691342555492505\n",
      "134 μs ± 88.5 ns per loop (mean ± std. dev. of 7 runs, 10,000 loops each)\n",
      "1000 1.570743738501071\n",
      "1.35 ms ± 5.13 μs per loop (mean ± std. dev. of 7 runs, 1,000 loops each)\n",
      "10000 1.570794663715291\n",
      "13.5 ms ± 19.3 μs per loop (mean ± std. dev. of 7 runs, 100 loops each)\n",
      "100000 1.5707962742034218\n",
      "135 ms ± 225 μs per loop (mean ± std. dev. of 7 runs, 10 loops each)\n",
      "1000000 1.5707963251317278\n",
      "1.37 s ± 12.3 ms per loop (mean ± std. dev. of 7 runs, 1 loop each)\n",
      "10000000 1.5707963267423612\n"
     ]
    }
   ],
   "source": [
    "def i(x) :\n",
    "    return ( 1.0 - x ** 2 ) ** 0.5\n",
    "\n",
    "def integrate ( fun, a , b, N) :\n",
    "    sum = 0.0\n",
    "    for i in range(0, N) :\n",
    "        sum += 2.0 * fun( a + i * ( ( b - a ) / N ) ) / N \n",
    "    return sum\n",
    "N = 100\n",
    "print(integrate( i , -1.0, 1.0, N ) )\n",
    "\n",
    "for k in range( 2, 8 ) :\n",
    "    N = 10 ** k\n",
    "    %timeit integrate( i , -1.0, 1.0, N )\n",
    "    print( N, integrate( i , -1.0, 1.0, N ) )\n"
   ]
  },
  {
   "cell_type": "code",
   "execution_count": null,
   "metadata": {},
   "outputs": [],
   "source": []
  }
 ],
 "metadata": {
  "kernelspec": {
   "display_name": "Python 3 (ipykernel)",
   "language": "python",
   "name": "python3"
  },
  "language_info": {
   "codemirror_mode": {
    "name": "ipython",
    "version": 3
   },
   "file_extension": ".py",
   "mimetype": "text/x-python",
   "name": "python",
   "nbconvert_exporter": "python",
   "pygments_lexer": "ipython3",
   "version": "3.12.4"
  }
 },
 "nbformat": 4,
 "nbformat_minor": 4
}
