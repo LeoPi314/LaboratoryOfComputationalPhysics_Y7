{
 "cells": [
  {
   "cell_type": "markdown",
   "metadata": {},
   "source": [
    "### Numpy basics"
   ]
  },
  {
   "cell_type": "markdown",
   "metadata": {},
   "source": [
    "1\\. Find the row, column and overall means for the following matrix:\n",
    "\n",
    "```python\n",
    "m = np.arange(12).reshape((3,4))\n",
    "```"
   ]
  },
  {
   "cell_type": "code",
   "execution_count": 3,
   "metadata": {},
   "outputs": [
    {
     "name": "stdout",
     "output_type": "stream",
     "text": [
      "[[ 0  1  2  3]\n",
      " [ 4  5  6  7]\n",
      " [ 8  9 10 11]]\n",
      "row_mean: [1.5 5.5 9.5] column_mean: [4. 5. 6. 7.] mean 5.5\n"
     ]
    }
   ],
   "source": [
    "import numpy as np\n",
    "m = np.arange(12).reshape((3,4))\n",
    "row_mean = np.mean( m, axis=1 )\n",
    "column_mean = np.mean( m, axis=0 )\n",
    "mean = np.mean( m )\n",
    "print(m)\n",
    "print(\"row_mean:\", row_mean, \"column_mean:\", column_mean, \"mean\", mean )"
   ]
  },
  {
   "cell_type": "markdown",
   "metadata": {},
   "source": [
    "2\\. Find the outer product of the following two vecotrs\n",
    "\n",
    "```python\n",
    "u = np.array([1,3,5,7])\n",
    "v = np.array([2,4,6,8])\n",
    "```\n",
    "\n",
    "Do this in the following ways:\n",
    "\n",
    "   * Using the function outer in numpy\n",
    "   * Using a nested for loop or list comprehension\n",
    "   * Using numpy broadcasting operatoins\n"
   ]
  },
  {
   "cell_type": "code",
   "execution_count": 8,
   "metadata": {},
   "outputs": [
    {
     "name": "stdout",
     "output_type": "stream",
     "text": [
      "[[ 2  4  6  8]\n",
      " [ 6 12 18 24]\n",
      " [10 20 30 40]\n",
      " [14 28 42 56]]\n",
      "[[ 2  4  6  8]\n",
      " [ 6 12 18 24]\n",
      " [10 20 30 40]\n",
      " [14 28 42 56]]\n",
      "[[ 2  4  6  8]\n",
      " [ 6 12 18 24]\n",
      " [10 20 30 40]\n",
      " [14 28 42 56]]\n",
      "2.6 µs ± 19.3 ns per loop (mean ± std. dev. of 7 runs, 100000 loops each)\n",
      "6.78 µs ± 30.6 ns per loop (mean ± std. dev. of 7 runs, 100000 loops each)\n",
      "1.41 µs ± 2.02 ns per loop (mean ± std. dev. of 7 runs, 1000000 loops each)\n"
     ]
    }
   ],
   "source": [
    "u = np.array([1,3,5,7])\n",
    "v = np.array([2,4,6,8])\n",
    "\n",
    "uv_outer = np.outer( u, v )\n",
    "uv_loop = np.array([[i*j for i in v] for j in u])\n",
    "uv_broadcast = u.reshape(4,1) * v\n",
    "print(uv_outer)\n",
    "print(uv_loop)\n",
    "print(uv_broadcast)\n",
    "%timeit uv_outer = np.outer( u, v )\n",
    "%timeit uv_loop = np.array([[i*j for i in v] for j in u])\n",
    "%timeit uv_broadcast = u.reshape(4,1) * v"
   ]
  },
  {
   "cell_type": "markdown",
   "metadata": {},
   "source": [
    "3\\. Create a 10 by 6 matrix of random uniform numbers. Set all rows with any entry less than 0.1 to be zero\n",
    "\n",
    "Hint: Use the following numpy functions - np.random.random, np.any as well as Boolean indexing and the axis argument."
   ]
  },
  {
   "cell_type": "code",
   "execution_count": 109,
   "metadata": {},
   "outputs": [
    {
     "name": "stdout",
     "output_type": "stream",
     "text": [
      "[[0.03050837 0.4194086  0.87769215 0.71350281 0.32398232 0.76532979]\n",
      " [0.24675681 0.9325032  0.3076937  0.89399192 0.01161114 0.30166537]\n",
      " [0.57473552 0.40037047 0.49660527 0.32682084 0.28948197 0.54827428]\n",
      " [0.08559335 0.03289536 0.1044298  0.04755629 0.74637658 0.39611861]\n",
      " [0.23910018 0.87511899 0.59568677 0.28027473 0.92865147 0.3962173 ]\n",
      " [0.45416509 0.90731638 0.61644611 0.42153713 0.4021603  0.17079612]\n",
      " [0.10476093 0.74393725 0.94502009 0.23595762 0.20072338 0.80879791]\n",
      " [0.57656414 0.57933503 0.15003907 0.97857361 0.48426815 0.81266531]\n",
      " [0.21142129 0.14967728 0.20387854 0.46167895 0.92645489 0.89815749]\n",
      " [0.03633572 0.16233204 0.8182529  0.72593908 0.74901527 0.06639882]]\n",
      "[ True  True False  True False False False False False  True]\n",
      "[[0.         0.         0.         0.         0.         0.        ]\n",
      " [0.         0.         0.         0.         0.         0.        ]\n",
      " [0.57473552 0.40037047 0.49660527 0.32682084 0.28948197 0.54827428]\n",
      " [0.         0.         0.         0.         0.         0.        ]\n",
      " [0.23910018 0.87511899 0.59568677 0.28027473 0.92865147 0.3962173 ]\n",
      " [0.45416509 0.90731638 0.61644611 0.42153713 0.4021603  0.17079612]\n",
      " [0.10476093 0.74393725 0.94502009 0.23595762 0.20072338 0.80879791]\n",
      " [0.57656414 0.57933503 0.15003907 0.97857361 0.48426815 0.81266531]\n",
      " [0.21142129 0.14967728 0.20387854 0.46167895 0.92645489 0.89815749]\n",
      " [0.         0.         0.         0.         0.         0.        ]]\n"
     ]
    }
   ],
   "source": [
    "import numpy.random as npr\n",
    "npr.seed(42069)\n",
    "random_matrix = npr.rand(10,6)\n",
    "print(random_matrix)\n",
    "mask = ( random_matrix < 0.1 )\n",
    "zero_rows = np.any( mask, axis=1 )\n",
    "print(zero_rows)\n",
    "#this works FOR SOME REASONS\n",
    "random_matrix[zero_rows] = 0.0\n",
    "print(random_matrix)"
   ]
  },
  {
   "cell_type": "markdown",
   "metadata": {},
   "source": [
    "4\\. Use np.linspace to create an array of 100 numbers between 0 and 2π (includsive).\n",
    "\n",
    "  * Extract every 10th element using slice notation\n",
    "  * Reverse the array using slice notation\n",
    "  * Extract elements where the absolute difference between the sine and cosine functions evaluated at that element is less than 0.1\n",
    "  * Make a plot showing the sin and cos functions and indicate where they are close"
   ]
  },
  {
   "cell_type": "code",
   "execution_count": 87,
   "metadata": {},
   "outputs": [
    {
     "data": {
      "text/plain": [
       "<matplotlib.collections.PathCollection at 0x7f97d9d11080>"
      ]
     },
     "execution_count": 87,
     "metadata": {},
     "output_type": "execute_result"
    },
    {
     "data": {
      "image/png": "[encoded data removed]",
      "text/plain": [
       "<Figure size 432x288 with 1 Axes>"
      ]
     },
     "metadata": {
      "needs_background": "light"
     },
     "output_type": "display_data"
    }
   ],
   "source": [
    "circus = np.linspace(0., (2.0*np.pi), 100)\n",
    "#print(circus)\n",
    "cs = circus[9::10]\n",
    "#print(cs)\n",
    "sucric = circus[::-1]\n",
    "#print(sucric)\n",
    "cosincus = circus[np.abs(np.sin(circus)-np.cos(circus)) < 0.1]\n",
    "#print(cosincus)\n",
    "\n",
    "###PLOT???\n",
    "import matplotlib.pyplot as plt\n",
    "plt.plot(circus, np.sin(circus))\n",
    "plt.plot(circus, np.cos(circus))\n",
    "plt.scatter(cosincus, np.sin(cosincus))"
   ]
  },
  {
   "cell_type": "markdown",
   "metadata": {},
   "source": [
    "5\\. Create a matrix that shows the 10 by 10 multiplication table.\n",
    "\n",
    " * Find the trace of the matrix\n",
    " * Extract the anti-diagonal (this should be ```array([10, 18, 24, 28, 30, 30, 28, 24, 18, 10])```)\n",
    " * Extract the diagnoal offset by 1 upwards (this should be ```array([ 2,  6, 12, 20, 30, 42, 56, 72, 90])```)"
   ]
  },
  {
   "cell_type": "code",
   "execution_count": 73,
   "metadata": {},
   "outputs": [
    {
     "name": "stdout",
     "output_type": "stream",
     "text": [
      "[[  1   2   3   4   5   6   7   8   9  10]\n",
      " [  2   4   6   8  10  12  14  16  18  20]\n",
      " [  3   6   9  12  15  18  21  24  27  30]\n",
      " [  4   8  12  16  20  24  28  32  36  40]\n",
      " [  5  10  15  20  25  30  35  40  45  50]\n",
      " [  6  12  18  24  30  36  42  48  54  60]\n",
      " [  7  14  21  28  35  42  49  56  63  70]\n",
      " [  8  16  24  32  40  48  56  64  72  80]\n",
      " [  9  18  27  36  45  54  63  72  81  90]\n",
      " [ 10  20  30  40  50  60  70  80  90 100]]\n",
      "385\n",
      "[10 18 24 28 30 30 28 24 18 10]\n",
      "[ 2  6 12 20 30 42 56 72 90]\n"
     ]
    }
   ],
   "source": [
    "one_to_ten = np.arange(1,11)\n",
    "OtT_multiplication_table = np.outer(one_to_ten,one_to_ten)\n",
    "print(OtT_multiplication_table)\n",
    "print(np.trace(OtT_multiplication_table))\n",
    "print(OtT_multiplication_table[np.arange(0,10),np.arange(9,-1, -1)])\n",
    "print(OtT_multiplication_table[np.arange(0,9),np.arange(1,10)])"
   ]
  },
  {
   "cell_type": "markdown",
   "metadata": {},
   "source": [
    "6\\. Use broadcasting to create a grid of distances\n",
    "\n",
    "Route 66 crosses the following cities in the US: Chicago, Springfield, Saint-Louis, Tulsa, Oklahoma City, Amarillo, Santa Fe, Albuquerque, Flagstaff, Los Angeles\n",
    "The corresponding positions in miles are: 0, 198, 303, 736, 871, 1175, 1475, 1544, 1913, 2448\n",
    "\n",
    "  * Construct a 2D grid of distances among each city along Route 66\n",
    "  * Convert that in km (those savages...)"
   ]
  },
  {
   "cell_type": "code",
   "execution_count": 82,
   "metadata": {},
   "outputs": [
    {
     "name": "stdout",
     "output_type": "stream",
     "text": [
      "['Chicago' 'Springfield' 'Saint-Louis' 'Tulsa' 'Oklahoma City' 'Amarillo'\n",
      " 'Santa Fe' 'Albuquerque' 'Flagstaff' 'Los Angeles']\n",
      "[[   0  198  303  736  871 1175 1475 1544 1913 2448]\n",
      " [ 198    0  105  538  673  977 1277 1346 1715 2250]\n",
      " [ 303  105    0  433  568  872 1172 1241 1610 2145]\n",
      " [ 736  538  433    0  135  439  739  808 1177 1712]\n",
      " [ 871  673  568  135    0  304  604  673 1042 1577]\n",
      " [1175  977  872  439  304    0  300  369  738 1273]\n",
      " [1475 1277 1172  739  604  300    0   69  438  973]\n",
      " [1544 1346 1241  808  673  369   69    0  369  904]\n",
      " [1913 1715 1610 1177 1042  738  438  369    0  535]\n",
      " [2448 2250 2145 1712 1577 1273  973  904  535    0]]\n",
      "[[   0.       318.64932  487.63002 1184.47424 1401.73514 1890.9745\n",
      "  2373.7765  2484.82096 3078.66742 3939.66432]\n",
      " [ 318.64932    0.       168.9807   865.82492 1083.08582 1572.32518\n",
      "  2055.12718 2166.17164 2760.0181  3621.015  ]\n",
      " [ 487.63002  168.9807     0.       696.84422  914.10512 1403.34448\n",
      "  1886.14648 1997.19094 2591.0374  3452.0343 ]\n",
      " [1184.47424  865.82492  696.84422    0.       217.2609   706.50026\n",
      "  1189.30226 1300.34672 1894.19318 2755.19008]\n",
      " [1401.73514 1083.08582  914.10512  217.2609     0.       489.23936\n",
      "   972.04136 1083.08582 1676.93228 2537.92918]\n",
      " [1890.9745  1572.32518 1403.34448  706.50026  489.23936    0.\n",
      "   482.802    593.84646 1187.69292 2048.68982]\n",
      " [2373.7765  2055.12718 1886.14648 1189.30226  972.04136  482.802\n",
      "     0.       111.04446  704.89092 1565.88782]\n",
      " [2484.82096 2166.17164 1997.19094 1300.34672 1083.08582  593.84646\n",
      "   111.04446    0.       593.84646 1454.84336]\n",
      " [3078.66742 2760.0181  2591.0374  1894.19318 1676.93228 1187.69292\n",
      "   704.89092  593.84646    0.       860.9969 ]\n",
      " [3939.66432 3621.015   3452.0343  2755.19008 2537.92918 2048.68982\n",
      "  1565.88782 1454.84336  860.9969     0.     ]]\n"
     ]
    }
   ],
   "source": [
    "cities = np.array([ 'Chicago', 'Springfield', 'Saint-Louis', 'Tulsa', 'Oklahoma City', 'Amarillo', 'Santa Fe', 'Albuquerque', 'Flagstaff', 'Los Angeles' ])\n",
    "distances = np.array([ 0, 198, 303, 736, 871, 1175, 1475, 1544, 1913, 2448 ])\n",
    "D2_distances = np.abs( distances.reshape(len(distances), 1) - distances )\n",
    "print(cities)\n",
    "print(D2_distances)\n",
    "km_dist = D2_distances * 1.60934\n",
    "#print(km_dist)"
   ]
  },
  {
   "cell_type": "markdown",
   "metadata": {},
   "source": [
    "7\\. Prime numbers sieve: compute the prime numbers in the 0-N (N=99 to start with) range with a sieve (mask).\n",
    "  * Constract a shape (100,) boolean array, the mask\n",
    "  * Identify the multiples of each number starting from 2 and set accordingly the corresponding mask element\n",
    "  * Apply the mask to obtain an array of ordered prime numbers\n",
    "  * Check the performances (timeit); how does it scale with N?\n",
    "  * Implement the optimization suggested in the [sieve of Eratosthenes](https://en.wikipedia.org/wiki/Sieve_of_Eratosthenes)"
   ]
  },
  {
   "cell_type": "code",
   "execution_count": 73,
   "metadata": {},
   "outputs": [
    {
     "name": "stdout",
     "output_type": "stream",
     "text": [
      "14.1 μs ± 192 ns per loop (mean ± std. dev. of 7 runs, 100,000 loops each)\n",
      "70.6 μs ± 180 ns per loop (mean ± std. dev. of 7 runs, 10,000 loops each)\n",
      "148 μs ± 118 ns per loop (mean ± std. dev. of 7 runs, 10,000 loops each)\n",
      "804 μs ± 4.65 μs per loop (mean ± std. dev. of 7 runs, 1,000 loops each)\n",
      "1.74 ms ± 77.7 μs per loop (mean ± std. dev. of 7 runs, 1,000 loops each)\n",
      "104 μs ± 1.01 μs per loop (mean ± std. dev. of 7 runs, 10,000 loops each)\n",
      "596 μs ± 6.1 μs per loop (mean ± std. dev. of 7 runs, 1,000 loops each)\n",
      "733 μs ± 11.3 μs per loop (mean ± std. dev. of 7 runs, 1,000 loops each)\n",
      "4.91 ms ± 84.7 μs per loop (mean ± std. dev. of 7 runs, 100 loops each)\n",
      "26.3 ms ± 394 μs per loop (mean ± std. dev. of 7 runs, 10 loops each)\n"
     ]
    }
   ],
   "source": [
    "def primes(max_num) :\n",
    "    all_num = np.arange(max_num)\n",
    "    mask = np.array( [ not np.any( np.array([ ((all_num[i]%all_num[j])==0) for j in range(2,i) ]) ) if i > 1 else False for i in range(len(all_num))] )\n",
    "    prime_num = all_num[ mask ]\n",
    "    return prime_num\n",
    "def era_primes(max_num) : \n",
    "    all_num = np.arange(max_num)\n",
    "    mask = np.full( (max_num,), True )\n",
    "    mask[0:2] = False\n",
    "    delta = int(np.floor(np.sqrt(max_num)) + 1)\n",
    "    for i in range(2, delta) : \n",
    "        if mask[i]:\n",
    "            j = all_num[i]\n",
    "            j_n = 2*j\n",
    "            while( j_n < max_num ) :\n",
    "                mask[j_n] = False\n",
    "                j_n += j\n",
    "    prime_num = all_num[ mask ]\n",
    "    return prime_num\n",
    "def era_opt_primes(max_num, delta) :\n",
    "    all_num = np.arange(max_num)\n",
    "    mask = np.full( (max_num,), True )\n",
    "    mask[0:2] = False\n",
    "    first_delta = int(np.floor(np.sqrt(delta)) + 1)\n",
    "    for i in range(2, first_delta) : \n",
    "        if mask[i]:\n",
    "            j = all_num[i]\n",
    "            j_n = 2*j\n",
    "            while( j_n < delta ) :\n",
    "                mask[j_n] = False\n",
    "                j_n += j\n",
    "    primes = np.array([ all_num[i] for i in range(2, delta) if mask[i]] )\n",
    "    cycles = max_num//delta + 1\n",
    "    for i in range(1, cycles) :\n",
    "        n_min = delta*i\n",
    "        n_max = delta*(i+1)\n",
    "        if n_max > max_num : n_max = max_num\n",
    "        mask_i = mask[ n_min : n_max ]\n",
    "        for n in primes :\n",
    "            offset = n - (n_min-1)%n -1\n",
    "            for j in range( ( n_max - n_min ) // n +1 ) :\n",
    "                if ( ( offset + n*j ) < ( n_max - n_min ) ) : mask_i[offset + n*j] = False\n",
    "        primes_i = np.array([ all_num[i] for i in range(n_min, n_max) if mask[i]])\n",
    "        primes = np.concatenate( (primes, primes_i) )\n",
    "    primes = all_num[mask]\n",
    "    return primes\n",
    "        \n",
    "        #concatenate\n",
    "#%timeit primes(100)\n",
    "#%timeit primes(200)\n",
    "#%timeit primes(400)\n",
    "#%timeit era_primes(100)\n",
    "#%timeit era_primes(200)\n",
    "#%timeit era_primes(400)\n",
    "#print(primes(1000))\n",
    "#print(era_primes(1000))\n",
    "#print(era_opt_primes(1000, 37))\n",
    "%timeit era_primes(100)\n",
    "%timeit era_primes(500)\n",
    "%timeit era_primes(1000)\n",
    "%timeit era_primes(5000)\n",
    "%timeit era_primes(10000)\n",
    "%timeit era_opt_primes(100, 10)\n",
    "%timeit era_opt_primes(500, 23)\n",
    "%timeit era_opt_primes(1000, 100)\n",
    "%timeit era_opt_primes(5000, 223)\n",
    "%timeit era_opt_primes(10000, 100)\n"
   ]
  },
  {
   "cell_type": "markdown",
   "metadata": {},
   "source": [
    "**N.B. the following exercises are meant to be solved only if you are familiar with the numpy random library. If not you can skip them (postponed for one of the next exercise sessions)**\n"
   ]
  },
  {
   "cell_type": "markdown",
   "metadata": {},
   "source": [
    "8\\. Diffusion using random walk\n",
    "\n",
    "Consider a simple random walk process: at each step in time, a walker jumps right or left (+1 or -1) with equal probability. The goal is to find the typical distance from the origin of a random walker after a given amount of time. \n",
    "To do that, let's simulate many walkers and create a 2D array with each walker as a raw and the actual time evolution as columns\n",
    "\n",
    "  * Take 1000 walkers and let them walk for 200 steps\n",
    "  * Use randint to create a 2D array of size walkers x steps with values -1 or 1\n",
    "  * Build the actual walking distances for each walker (i.e. another 2D array \"summing on each raw\")\n",
    "  * Take the square of that 2D array (elementwise)\n",
    "  * Compute the mean of the squared distances at each step (i.e. the mean along the columns)\n",
    "  * Plot the average distances (sqrt(distance\\*\\*2)) as a function of time (step)\n",
    "  \n",
    "Did you get what you expected?"
   ]
  },
  {
   "cell_type": "code",
   "execution_count": 139,
   "metadata": {},
   "outputs": [
    {
     "data": {
      "text/plain": [
       "[<matplotlib.lines.Line2D at 0x76513caba8d0>]"
      ]
     },
     "execution_count": 139,
     "metadata": {},
     "output_type": "execute_result"
    },
    {
     "data": {
      "image/png": "[encoded data removed]",
      "text/plain": [
       "<Figure size 640x480 with 1 Axes>"
      ]
     },
     "metadata": {},
     "output_type": "display_data"
    }
   ],
   "source": [
    "import numpy.random as npr\n",
    "# step 1\n",
    "walkers = 1000\n",
    "steps = 200\n",
    "# step 2\n",
    "walkerXsteps = npr.randint( -1, 1, size=( walkers, steps ) )\n",
    "# step 3\n",
    "distances = np.sum(walkerXsteps, axis=1)\n",
    "# step 4\n",
    "square_distances = distances * distances\n",
    "# step 5\n",
    "mean_distances = np.array( [ np.sqrt( np.sum( np.power( np.sum( walkerXsteps, axis = 1, where=np.array([ [ False if ( j >= i ) else True for k in range( walkerXsteps.shape[ 1 ] )  ] for j in range( walkerXsteps.shape[ 0 ] ) ] ) ) , 2 ) ) ) for i in range( walkerXsteps.shape[ 1 ] ) ] )\n",
    "# step 6\n",
    "import matplotlib.pyplot as plt\n",
    "plt.plot(10*mean_distances)\n",
    "plt.plot([walkers * np.sqrt(4.*i*0.5*0.5) for i in range (steps) ])\n",
    "#plt.scatter( np.arange(steps) , mean_distances)"
   ]
  },
  {
   "cell_type": "markdown",
   "metadata": {},
   "source": [
    "9\\. Analyze a data file \n",
    "  * Download the population of hares, lynxes and carrots at the beginning of the last century.\n",
    "    ```python\n",
    "    ! wget https://www.dropbox.com/s/3vigxoqayo389uc/populations.txt\n",
    "    ```\n",
    "\n",
    "  * Check the content by looking within the file\n",
    "  * Load the data (use an appropriate numpy method) into a 2D array\n",
    "  * Create arrays out of the columns, the arrays being (in order): *year*, *hares*, *lynxes*, *carrots* \n",
    "  * Plot the 3 populations over the years\n",
    "  * Compute the main statistical properties of the dataset (mean, std, correlations, etc.)\n",
    "  * Which species has the highest population each year?\n",
    "\n",
    "Do you feel there is some evident correlation here? [Studies](https://www.enr.gov.nt.ca/en/services/lynx/lynx-snowshoe-hare-cycle) tend to believe so."
   ]
  },
  {
   "cell_type": "code",
   "execution_count": null,
   "metadata": {},
   "outputs": [],
   "source": []
  }
 ],
 "metadata": {
  "kernelspec": {
   "display_name": "Python 3 (ipykernel)",
   "language": "python",
   "name": "python3"
  },
  "language_info": {
   "codemirror_mode": {
    "name": "ipython",
    "version": 3
   },
   "file_extension": ".py",
   "mimetype": "text/x-python",
   "name": "python",
   "nbconvert_exporter": "python",
   "pygments_lexer": "ipython3",
   "version": "3.12.4"
  }
 },
 "nbformat": 4,
 "nbformat_minor": 4
}
