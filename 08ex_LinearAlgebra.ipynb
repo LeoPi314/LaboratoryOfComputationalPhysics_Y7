{
 "cells": [
  {
   "cell_type": "markdown",
   "metadata": {},
   "source": [
    "1\\. **PCA on 3D dataset**\n",
    "\n",
    "* Generate a dataset with 3 features each with N entries (N being ${\\cal O}(1000)$). With $N(\\mu,\\sigma)$ the normali distribution with mean $\\mu$ and $\\sigma$  standard deviation, generate the 3 variables $x_{1,2,3}$ such that:\n",
    "    * $x_1$ is distributed as $N(0,1)$\n",
    "    * $x_2$ is distributed as $x_1+N(0,3)$\n",
    "    * $x_3$ is given by $2x_1+x_2$\n",
    "* Find the eigenvectors and eigenvalues of the covariance matrix of the dataset\n",
    "* Find the eigenvectors and eigenvalues using SVD. Check that the two procedures yield to same result\n",
    "* What percent of the total dataset's variability is explained by the principal components? Given how the dataset was constructed, do these make sense? Reduce the dimensionality of the system so that at least 99% of the total variability is retained.\n",
    "* Redefine the data in the basis yielded by the PCA procedure\n",
    "* Plot the data points in the original and the new coordiantes as a set of scatter plots. Your final figure should have 2 rows of 3 plots each, where the columns show the (0,1), (0,2) and (1,2) proejctions.\n"
   ]
  },
  {
   "cell_type": "code",
   "execution_count": 2,
   "metadata": {},
   "outputs": [],
   "source": [
    "import numpy as np\n",
    "from numpy import random as npr\n",
    "import pandas as pd\n",
    "from scipy import linalg as la\n",
    "from matplotlib import pyplot as plt\n",
    "%matplotlib inline"
   ]
  },
  {
   "cell_type": "code",
   "execution_count": 47,
   "metadata": {},
   "outputs": [
    {
     "data": {
      "text/html": [
       "<div>\n",
       "<style scoped>\n",
       "    .dataframe tbody tr th:only-of-type {\n",
       "        vertical-align: middle;\n",
       "    }\n",
       "\n",
       "    .dataframe tbody tr th {\n",
       "        vertical-align: top;\n",
       "    }\n",
       "\n",
       "    .dataframe thead th {\n",
       "        text-align: right;\n",
       "    }\n",
       "</style>\n",
       "<table border=\"1\" class=\"dataframe\">\n",
       "  <thead>\n",
       "    <tr style=\"text-align: right;\">\n",
       "      <th></th>\n",
       "      <th>x_1</th>\n",
       "      <th>x_2</th>\n",
       "      <th>x_3</th>\n",
       "    </tr>\n",
       "  </thead>\n",
       "  <tbody>\n",
       "    <tr>\n",
       "      <th>count</th>\n",
       "      <td>4.269000e+03</td>\n",
       "      <td>4.269000e+03</td>\n",
       "      <td>4.269000e+03</td>\n",
       "    </tr>\n",
       "    <tr>\n",
       "      <th>mean</th>\n",
       "      <td>2.236570e-17</td>\n",
       "      <td>6.865750e-18</td>\n",
       "      <td>-1.614492e-16</td>\n",
       "    </tr>\n",
       "    <tr>\n",
       "      <th>std</th>\n",
       "      <td>1.005070e+00</td>\n",
       "      <td>3.095394e+00</td>\n",
       "      <td>4.194858e+00</td>\n",
       "    </tr>\n",
       "    <tr>\n",
       "      <th>min</th>\n",
       "      <td>-3.332416e+00</td>\n",
       "      <td>-1.144961e+01</td>\n",
       "      <td>-1.592870e+01</td>\n",
       "    </tr>\n",
       "    <tr>\n",
       "      <th>25%</th>\n",
       "      <td>-6.956393e-01</td>\n",
       "      <td>-2.075407e+00</td>\n",
       "      <td>-2.819554e+00</td>\n",
       "    </tr>\n",
       "    <tr>\n",
       "      <th>50%</th>\n",
       "      <td>7.761077e-03</td>\n",
       "      <td>-3.007563e-02</td>\n",
       "      <td>-1.057632e-01</td>\n",
       "    </tr>\n",
       "    <tr>\n",
       "      <th>75%</th>\n",
       "      <td>6.650257e-01</td>\n",
       "      <td>2.082020e+00</td>\n",
       "      <td>2.806803e+00</td>\n",
       "    </tr>\n",
       "    <tr>\n",
       "      <th>max</th>\n",
       "      <td>3.674083e+00</td>\n",
       "      <td>1.129946e+01</td>\n",
       "      <td>1.423102e+01</td>\n",
       "    </tr>\n",
       "  </tbody>\n",
       "</table>\n",
       "</div>"
      ],
      "text/plain": [
       "                x_1           x_2           x_3\n",
       "count  4.269000e+03  4.269000e+03  4.269000e+03\n",
       "mean   2.236570e-17  6.865750e-18 -1.614492e-16\n",
       "std    1.005070e+00  3.095394e+00  4.194858e+00\n",
       "min   -3.332416e+00 -1.144961e+01 -1.592870e+01\n",
       "25%   -6.956393e-01 -2.075407e+00 -2.819554e+00\n",
       "50%    7.761077e-03 -3.007563e-02 -1.057632e-01\n",
       "75%    6.650257e-01  2.082020e+00  2.806803e+00\n",
       "max    3.674083e+00  1.129946e+01  1.423102e+01"
      ]
     },
     "execution_count": 47,
     "metadata": {},
     "output_type": "execute_result"
    }
   ],
   "source": [
    "# create dataset\n",
    "npr.seed(42069)\n",
    "max_N = 4269\n",
    "dataFrame = pd.DataFrame( npr.normal( 0, 1, max_N ), index=np.arange(max_N), columns=['x_1'])\n",
    "dataFrame['x_2'] = dataFrame['x_1'] + npr.normal( 0, 3, max_N )\n",
    "dataFrame['x_3'] = 2.*dataFrame['x_1'] + dataFrame['x_2']\n",
    "\n",
    "# CENTERING TO 0 TO ALLOW BETTER STATISTICS\n",
    "mean_1 = dataFrame['x_1'].mean()\n",
    "mean_2 = dataFrame['x_2'].mean()\n",
    "mean_3 = dataFrame['x_3'].mean()\n",
    "dataFrame['x_1'] -= mean_1\n",
    "dataFrame['x_2'] -= mean_2\n",
    "dataFrame['x_3'] -= mean_3\n",
    "dataFrame.describe()"
   ]
  },
  {
   "cell_type": "code",
   "execution_count": 68,
   "metadata": {},
   "outputs": [
    {
     "name": "stdout",
     "output_type": "stream",
     "text": [
      "[26.19788937+0.j  0.        +0.j  1.99057311+0.j]\n",
      "[[-0.11966483 -0.81649658  0.56481294]\n",
      " [-0.57208693 -0.40824829 -0.71137183]\n",
      " [-0.81141659  0.40824829  0.41825406]]\n",
      "[26.19788937  1.99057311  0.        ]\n",
      "[[-0.11966483  0.56481294 -0.81649658]\n",
      " [-0.57208693 -0.71137183 -0.40824829]\n",
      " [-0.81141659  0.41825406  0.40824829]]\n",
      "Partial weight of each eigenvalue: [0.92938341 0.         0.07061659]\n",
      "Partial weight of eigenvalues 0,2: 99.9999999999999%\n"
     ]
    }
   ],
   "source": [
    "# find covariance matrix and its eigenvector/eigenvalues\n",
    "cov = dataFrame.cov()\n",
    "l, V = la.eig(cov)\n",
    "# to return into real world\n",
    "#np.real_if_close(l)\n",
    "print(l)\n",
    "print(V)\n",
    "\n",
    "# find eigenvectors/values using SVD\n",
    "U, spectrum, Vt = la.svd(dataFrame.T)\n",
    "l_svd = np.power(spectrum, 2)/(max_N-1)\n",
    "V_svd = U\n",
    "print(l_svd)\n",
    "print(V_svd)\n",
    "\n",
    "# differences compute and output\n",
    "#l_diff = np.real_if_close(l) - l_svd\n",
    "#V_diff = np.real_if_close(V) - V_svd\n",
    "#print(l_diff)\n",
    "#print(V_diff)\n",
    "\n",
    "# they are mostly the same, not considering underflow values\n",
    "# also, one is ordered, the other one not\n",
    "\n",
    "Lambda = np.diag(l)\n",
    "trace =  np.trace(cov)\n",
    "t_frac = np.real_if_close(l)/trace\n",
    "np.set_printoptions(suppress=True)\n",
    "print(f\"Partial weight of each eigenvalue: {t_frac}\")\n",
    "print(f\"Partial weight of eigenvalues 0,2: {(t_frac[0]+t_frac[2])*100:.13f}%\")\n",
    "\n",
    "# redefine data in procedure pf PCA\n",
    "#r_frame = pd.DataFrame(, index=np.arange(max_N), colums=['p_1', 'p_2'])"
   ]
  },
  {
   "cell_type": "markdown",
   "metadata": {},
   "source": [
    "2\\. **PCA on a nD dataset**\n",
    "\n",
    "Start from the dataset you have genereted in the previous exercise and add uncorrelated random noise. Such noise should be represented by other 10 uncorrelated variables normal distributed, with standar deviation much smaller (say, a factor 50) than those used to generate the $x_1$ and $x_2$.\n",
    "\n",
    "Repeat the PCA procedure and compare the results with what you obtained before"
   ]
  },
  {
   "cell_type": "markdown",
   "metadata": {},
   "source": [
    "3 \\. **Looking at an oscillating spring** (optional)\n",
    "\n",
    "Imagine you have $n$ cameras looking at a spring oscillating along the $x$ axis. Each  camera record the motion of the spring looking at it along a given direction defined by the pair $(\\theta_i, \\phi_i)$, the angles in spherical coordinates. \n",
    "\n",
    "Start from the simulation of the records (say ${\\cal O}(1000)$) of the spring's motion along the x axis, assuming a little random noise affects the measurements along the $y$. Rotate such dataset to emulate the records of each camera.\n",
    "\n",
    "Perform a Principal Component Analysis on the thus obtained dataset, aiming at finding the only one coordinate that really matters.\n"
   ]
  },
  {
   "cell_type": "markdown",
   "metadata": {},
   "source": [
    "4\\. **PCA on the MAGIC dataset** (optional)\n",
    "\n",
    "Perform a PCA on the magic04.data dataset"
   ]
  },
  {
   "cell_type": "code",
   "execution_count": null,
   "metadata": {},
   "outputs": [],
   "source": [
    "# get the dataset and its description on the proper data directory\n",
    "!wget https://archive.ics.uci.edu/ml/machine-learning-databases/magic/magic04.data -P ~/data/\n",
    "!wget https://archive.ics.uci.edu/ml/machine-learning-databases/magic/magic04.names -P ~/data/ "
   ]
  }
 ],
 "metadata": {
  "kernelspec": {
   "display_name": "Python 3",
   "language": "python",
   "name": "python3"
  },
  "language_info": {
   "codemirror_mode": {
    "name": "ipython",
    "version": 3
   },
   "file_extension": ".py",
   "mimetype": "text/x-python",
   "name": "python",
   "nbconvert_exporter": "python",
   "pygments_lexer": "ipython3",
   "version": "3.6.8"
  }
 },
 "nbformat": 4,
 "nbformat_minor": 2
}
